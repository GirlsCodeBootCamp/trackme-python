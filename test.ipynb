{
 "cells": [
  {
   "cell_type": "code",
   "execution_count": 1,
   "metadata": {},
   "outputs": [
    {
     "ename": "ModuleNotFoundError",
     "evalue": "No module named 'urllib3'",
     "output_type": "error",
     "traceback": [
      "\u001b[0;31m---------------------------------------------------------------------------\u001b[0m",
      "\u001b[0;31mModuleNotFoundError\u001b[0m                       Traceback (most recent call last)",
      "Input \u001b[0;32mIn [1]\u001b[0m, in \u001b[0;36m<cell line: 1>\u001b[0;34m()\u001b[0m\n\u001b[0;32m----> 1\u001b[0m \u001b[38;5;28;01mimport\u001b[39;00m \u001b[38;5;21;01murllib3\u001b[39;00m\n\u001b[1;32m      2\u001b[0m \u001b[38;5;28;01mfrom\u001b[39;00m \u001b[38;5;21;01mbs4\u001b[39;00m \u001b[38;5;28;01mimport\u001b[39;00m BeautifulSoup \u001b[38;5;28;01mas\u001b[39;00m bs\n\u001b[1;32m      3\u001b[0m \u001b[38;5;28;01mimport\u001b[39;00m \u001b[38;5;21;01mre\u001b[39;00m\n",
      "\u001b[0;31mModuleNotFoundError\u001b[0m: No module named 'urllib3'"
     ]
    }
   ],
   "source": [
    "import urllib3\n",
    "from bs4 import BeautifulSoup as bs\n",
    "import re\n",
    "\n",
    "url=\"https://time.is/\"\n",
    "http = urllib3.PoolManager()\n",
    "\n",
    "resp = http.request('GET', url)\n",
    "root = resp.data\n",
    "soup = bs(root)                #make BeautifulSoup\n",
    "output = soup.get_text()\n",
    "b = re.sub(r'\\n+','\\n',output)"
   ]
  },
  {
   "cell_type": "code",
   "execution_count": 27,
   "metadata": {},
   "outputs": [
    {
     "data": {
      "text/plain": [
       "'Time.is - exact time, any time zone\\n×\\nTime.is\\nExact time now:\\xa0Time in Carlsbad, California, United States now:07:51:07PMThe clock will update automatically if you turn on JavaScript in your browser.Tuesday, June 28, 2022Sun: ↑ 05:43AM ↓ 08:03PM (14h 20m) More infoTokyo11:51AMBeijing10:51AMKyiv05:51AMParis04:51AMLondon03:51AMNew York10:51PMLos Angeles07:51PM\\nAbu Dhabi Addis Ababa Amsterdam Antananarivo Athens Auckland Baghdad Bangkok Barcelona Beijing Berlin Bogotá Boston Brussels Buenos Aires Cairo Cape Town Caracas Chicago Delhi Dhaka Dubai Dublin Frankfurt Guangzhou Hanoi Havana Helsinki Hong Kong Honolulu Istanbul Jakarta Karachi Kathmandu Kinshasa Kuala Lumpur Kyiv Lagos Las Vegas Lima London Los Angeles Luanda Madrid Manila Mecca Mexico City Miami Milan Moscow Mumbai New Delhi New York Nuuk Osaka Oslo Paris Prague Reykjavik Rio de Janeiro Riyadh Rome Saint Petersburg San Francisco Santiago Seoul Shanghai Shenzhen Singapore Stockholm Sydney São Paulo Taipei Tehran Tel Aviv Tokyo Toronto Vancouver Vienna Warsaw Washington, D.C. Yangon \\nUTC\\nGMT\\nCET\\nPacific Time\\nMountain Time\\nCentral Time\\nEastern Time\\nChina Standard Time\\nIndia Standard Time\\n\"Do the little things. In the future when you look back, they\\'d have made the greatest change.\"Nike Thaddeus\\n×\\nTime.is - exact time for any time zone\\nExact time nowTime here&thereTime zonesDaylight Saving TimeClockCalendarSoundAppsWidgetsTime zone newsNewsletterUTCUnix clockUnix time converterCustomizeFAQHow to use Time.isAboutContactAdvertiseTerms of usePrivacy policy\\nFollow us\\nTwitter\\nTime.is displays exact, official atomic clock time for any time zone (more than 7 million locations) in 56 languages.\\nWhat time is it?\\n几点了？\\nक्या समय हुआ है?\\n¿Qué hora es?\\nQuelle heure est-il ?\\nكم الساعة\\nএখন কয়টা বাজে?\\nКоторый час?\\nQue horas são?\\nJam berapa?\\n؟ےہ اوہ تقو ایک\\nWieviel Uhr ist es?\\n今何時ですか？\\nSaat kaç?\\nஎன்ன நேரம்?\\n≫ more languages\\n'"
      ]
     },
     "execution_count": 27,
     "metadata": {},
     "output_type": "execute_result"
    }
   ],
   "source": [
    "a\n"
   ]
  },
  {
   "cell_type": "code",
   "execution_count": 24,
   "metadata": {},
   "outputs": [],
   "source": [
    "resp = http.request('GET', url)\n",
    "root = resp.data\n",
    "soup = bs(root)                #make BeautifulSoup\n",
    "output = soup.get_text()\n",
    "a = re.sub(r'\\n+','\\n',output)"
   ]
  },
  {
   "cell_type": "code",
   "execution_count": 26,
   "metadata": {},
   "outputs": [],
   "source": [
    "html_output = difflib.HtmlDiff().make_file(a.split(\"\\n\"), b.split(\"\\n\"))\n",
    "html_output = re.sub(r'nowrap=\"nowrap\"','class=\"text_column\"',html_output)\n",
    "\n",
    "\n",
    "\n",
    "hack_soup = bs(html_output)\n",
    "\n",
    "style = hack_soup.find('style')\n",
    "meta = hack_soup.new_tag('link')\n",
    "meta['rel'] = \"stylesheet\"\n",
    "meta['href'] = \"test.css\"\n",
    "style.insert_after(meta)\n",
    "\n",
    "with open('test.html', \"w\") as f:\n",
    "    f.write(hack_soup.prettify())\n",
    "    \n"
   ]
  },
  {
   "cell_type": "code",
   "execution_count": 12,
   "metadata": {},
   "outputs": [
    {
     "name": "stdout",
     "output_type": "stream",
     "text": [
      "0  Time.is - exact time, any time zone\n",
      "1  ×\n",
      "2  Time.is\n",
      "3 -Exact time now: Time in Carlsbad, California, United States now:07:20:06PMThe clock will update automatically if you turn on JavaScript in your browser.Tuesday, June 28, 2022Sun: ↑ 05:43AM ↓ 08:03PM (14h 20m) More infoTokyo11:20AMBeijing10:20AMKyiv05:20AMParis04:20AMLondon03:20AMNew York10:20PMLos Angeles07:20PM\n",
      "4 +Exact time now: Time in Carlsbad, California, United States now:07:19:50PMThe clock will update automatically if you turn on JavaScript in your browser.Tuesday, June 28, 2022Sun: ↑ 05:43AM ↓ 08:03PM (14h 20m) More infoTokyo11:19AMBeijing10:19AMKyiv05:19AMParis04:19AMLondon03:19AMNew York10:19PMLos Angeles07:19PM\n",
      "5  Abu Dhabi Addis Ababa Amsterdam Antananarivo Athens Auckland Baghdad Bangkok Barcelona Beijing Berlin Bogotá Boston Brussels Buenos Aires Cairo Cape Town Caracas Chicago Delhi Dhaka Dubai Dublin Frankfurt Guangzhou Hanoi Havana Helsinki Hong Kong Honolulu Istanbul Jakarta Karachi Kathmandu Kinshasa Kuala Lumpur Kyiv Lagos Las Vegas Lima London Los Angeles Luanda Madrid Manila Mecca Mexico City Miami Milan Moscow Mumbai New Delhi New York Nuuk Osaka Oslo Paris Prague Reykjavik Rio de Janeiro Riyadh Rome Saint Petersburg San Francisco Santiago Seoul Shanghai Shenzhen Singapore Stockholm Sydney São Paulo Taipei Tehran Tel Aviv Tokyo Toronto Vancouver Vienna Warsaw Washington, D.C. Yangon \n",
      "6  UTC\n",
      "7  GMT\n"
     ]
    }
   ],
   "source": [
    "import difflib\n",
    "i = 0\n",
    "for text in difflib.unified_diff(a.split(\"\\n\"), b.split(\"\\n\")):\n",
    "    if text[:3] not in ('+++', '---', '@@ '):\n",
    "        print(text)\n",
    "        i += 1"
   ]
  },
  {
   "cell_type": "code",
   "execution_count": 50,
   "metadata": {},
   "outputs": [
    {
     "data": {
      "text/plain": [
       "' GMT'"
      ]
     },
     "execution_count": 50,
     "metadata": {},
     "output_type": "execute_result"
    }
   ],
   "source": [
    "result"
   ]
  }
 ],
 "metadata": {
  "interpreter": {
   "hash": "5edc29c2ed010d6458d71a83433b383a96a8cbd3efe8531bc90c4b8a5b8bcec9"
  },
  "kernelspec": {
   "display_name": "Python 3 (ipykernel)",
   "language": "python",
   "name": "python3"
  },
  "language_info": {
   "codemirror_mode": {
    "name": "ipython",
    "version": 3
   },
   "file_extension": ".py",
   "mimetype": "text/x-python",
   "name": "python",
   "nbconvert_exporter": "python",
   "pygments_lexer": "ipython3",
   "version": "3.8.9"
  }
 },
 "nbformat": 4,
 "nbformat_minor": 2
}
