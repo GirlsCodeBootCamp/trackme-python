{
 "cells": [
  {
   "cell_type": "code",
   "execution_count": 1,
   "metadata": {},
   "outputs": [],
   "source": [
    "import urllib3\n",
    "url=\"https://time.is/\"\n",
    "http = urllib3.PoolManager()\n",
    "resp = http.request('GET', url)\n",
    "root = resp.data\n",
    "\n"
   ]
  },
  {
   "cell_type": "code",
   "execution_count": 6,
   "metadata": {},
   "outputs": [],
   "source": [
    "from bs4 import BeautifulSoup as bs"
   ]
  },
  {
   "cell_type": "code",
   "execution_count": 5,
   "metadata": {},
   "outputs": [
    {
     "name": "stdout",
     "output_type": "stream",
     "text": [
      "Defaulting to user installation because normal site-packages is not writeable\n",
      "Collecting bs4\n",
      "  Downloading bs4-0.0.1.tar.gz (1.1 kB)\n",
      "Collecting beautifulsoup4\n",
      "  Using cached beautifulsoup4-4.11.1-py3-none-any.whl (128 kB)\n",
      "Collecting soupsieve>1.2\n",
      "  Using cached soupsieve-2.3.2.post1-py3-none-any.whl (37 kB)\n",
      "Building wheels for collected packages: bs4\n",
      "  Building wheel for bs4 (setup.py) ... \u001b[?25ldone\n",
      "\u001b[?25h  Created wheel for bs4: filename=bs4-0.0.1-py3-none-any.whl size=1273 sha256=37f78a1bc73688cf6b78b09199ca1472445e841ad2bd76fb252ff7db536d0ae9\n",
      "  Stored in directory: /Users/masha/Library/Caches/pip/wheels/75/78/21/68b124549c9bdc94f822c02fb9aa3578a669843f9767776bca\n",
      "Successfully built bs4\n",
      "Installing collected packages: soupsieve, beautifulsoup4, bs4\n",
      "Successfully installed beautifulsoup4-4.11.1 bs4-0.0.1 soupsieve-2.3.2.post1\n",
      "\u001b[33mWARNING: You are using pip version 20.2.3; however, version 22.1.2 is available.\n",
      "You should consider upgrading via the '/Library/Developer/CommandLineTools/usr/bin/python3 -m pip install --upgrade pip' command.\u001b[0m\n",
      "Note: you may need to restart the kernel to use updated packages.\n"
     ]
    }
   ],
   "source": [
    "%pip install bs4"
   ]
  },
  {
   "cell_type": "code",
   "execution_count": 22,
   "metadata": {},
   "outputs": [],
   "source": [
    "soup = bs(root)                #make BeautifulSoup\n",
    "output = soup.get_text()"
   ]
  },
  {
   "cell_type": "code",
   "execution_count": 23,
   "metadata": {},
   "outputs": [],
   "source": [
    "import re\n",
    "b = re.sub(r'\\n+','\\n',output)"
   ]
  },
  {
   "cell_type": "code",
   "execution_count": 61,
   "metadata": {},
   "outputs": [
    {
     "data": {
      "text/plain": [
       "'+Time.is - exact time, any time zone\\n+IDENTIFYME\\n×\\nTime.is\\nExact time now:\\xa0Time in Carlsbad, California, United States now:08:09:32PMThe clock will update automatically if you turn on JavaScript in your browser.Tuesday, June 7, 2022Sun: ↑ 05:40AM ↓ 07:57PM (14h 17m) More infoTokyo12:09PMBeijing11:09AMKyiv06:09AMParis05:09AMLondon04:09AMNew York11:09PMLos Angeles08:09PM\\nAbu Dhabi Addis Ababa Amsterdam Antananarivo Athens Auckland Baghdad Bangkok Barcelona Beijing Berlin Bogotá Boston Brussels Buenos Aires Cairo Cape Town Caracas Chicago Delhi Dhaka Dubai Dublin Frankfurt Guangzhou Hanoi Havana Helsinki Hong Kong Honolulu Istanbul Jakarta Karachi Kathmandu Kinshasa Kuala Lumpur Kyiv Lagos Las Vegas Lima London Los Angeles Luanda Madrid Manila Mecca Mexico City Miami Milan Moscow Mumbai New Delhi New York Nuuk Osaka Oslo Paris Prague Reykjavik Rio de Janeiro Riyadh Rome Saint Petersburg San Francisco Santiago Seoul Shanghai Shenzhen Singapore Stockholm Sydney São Paulo Taipei Tehran Tel Aviv Tokyo Toronto Vancouver Vienna Warsaw Washington, D.C. Yangon \\nUTC\\nGMT\\nCET\\nPacific Time\\nMountain Time\\nCentral Time\\nEastern Time\\nChina Standard Time\\nIndia Standard Time\\n\"I don\\'t believe in age. When you wake up, each day looks the same, so each day should be a new beginning.\"Prince (7 June 1958 – 21 April 2016)\\n×\\nTime.is - exact time for any time zone\\nExact time nowTime here&thereTime zonesDaylight Saving TimeClockCalendarSoundAppsWidgetsTime zone newsNewsletterUTCUnix clockUnix time converterCustomizeFAQHow to use Time.isAboutContactAdvertiseTerms of usePrivacy policy\\nFollow us\\nTwitter\\nTime.is displays exact, official atomic clock time for any time zone (more than 7 million locations) in 56 languages.\\nWhat time is it?\\n几点了？\\nक्या समय हुआ है?\\n¿Qué hora es?\\nQuelle heure est-il ?\\nكم الساعة\\nএখন কয়টা বাজে?\\nКоторый час?\\nQue horas são?\\nJam berapa?\\n؟ےہ اوہ تقو ایک\\nWieviel Uhr ist es?\\n今何時ですか？\\nSaat kaç?\\nஎன்ன நேரம்?\\n≫ more languages\\n'"
      ]
     },
     "execution_count": 61,
     "metadata": {},
     "output_type": "execute_result"
    }
   ],
   "source": [
    "b"
   ]
  },
  {
   "cell_type": "code",
   "execution_count": 42,
   "metadata": {},
   "outputs": [],
   "source": [
    "a = \"+\" + a"
   ]
  },
  {
   "cell_type": "code",
   "execution_count": 52,
   "metadata": {},
   "outputs": [
    {
     "data": {
      "text/plain": [
       "'+Time.is - exact time, any time zone\\n×\\nTime.is\\nExact time now:\\xa0Time in Carlsbad, California, United States now:07:58:15PMThe clock will update automatically if you turn on JavaScript in your browser.Tuesday, June 7, 2022Sun: ↑ 05:40AM ↓ 07:57PM (14h 17m) More infoTokyo11:58AMBeijing10:58AMKyiv05:58AMParis04:58AMLondon03:58AMNew York10:58PMLos Angeles07:58PM\\nAbu Dhabi Addis Ababa Amsterdam Antananarivo Athens Auckland Baghdad Bangkok Barcelona Beijing Berlin Bogotá Boston Brussels Buenos Aires Cairo Cape Town Caracas Chicago Delhi Dhaka Dubai Dublin Frankfurt Guangzhou Hanoi Havana Helsinki Hong Kong Honolulu Istanbul Jakarta Karachi Kathmandu Kinshasa Kuala Lumpur Kyiv Lagos Las Vegas Lima London Los Angeles Luanda Madrid Manila Mecca Mexico City Miami Milan Moscow Mumbai New Delhi New York Nuuk Osaka Oslo Paris Prague Reykjavik Rio de Janeiro Riyadh Rome Saint Petersburg San Francisco Santiago Seoul Shanghai Shenzhen Singapore Stockholm Sydney São Paulo Taipei Tehran Tel Aviv Tokyo Toronto Vancouver Vienna Warsaw Washington, D.C. Yangon \\nUTC\\nGMT\\nCET\\nPacific Time\\nMountain Time\\nCentral Time\\nEastern Time\\nChina Standard Time\\nIndia Standard Time\\n\"I don\\'t believe in age. When you wake up, each day looks the same, so each day should be a new beginning.\"Prince (7 June 1958 – 21 April 2016)\\n×\\nTime.is - exact time for any time zone\\nExact time nowTime here&thereTime zonesDaylight Saving TimeClockCalendarSoundAppsWidgetsTime zone newsNewsletterUTCUnix clockUnix time converterCustomizeFAQHow to use Time.isAboutContactAdvertiseTerms of usePrivacy policy\\nFollow us\\nTwitter\\nTime.is displays exact, official atomic clock time for any time zone (more than 7 million locations) in 56 languages.\\nWhat time is it?\\n几点了？\\nक्या समय हुआ है?\\n¿Qué hora es?\\nQuelle heure est-il ?\\nكم الساعة\\nএখন কয়টা বাজে?\\nКоторый час?\\nQue horas são?\\nJam berapa?\\n؟ےہ اوہ تقو ایک\\nWieviel Uhr ist es?\\n今何時ですか？\\nSaat kaç?\\nஎன்ன நேரம்?\\n≫ more languages\\n'"
      ]
     },
     "execution_count": 52,
     "metadata": {},
     "output_type": "execute_result"
    }
   ],
   "source": [
    "a"
   ]
  },
  {
   "cell_type": "code",
   "execution_count": 43,
   "metadata": {},
   "outputs": [],
   "source": [
    "b = '+Time.is - exact time, any time zone\\n+IDENTIFYME\\n×\\nTime.is\\nExact time now:\\xa0Time in Carlsbad, California, United States now:08:09:32PMThe clock will update automatically if you turn on JavaScript in your browser.Tuesday, June 7, 2022Sun: ↑ 05:40AM ↓ 07:57PM (14h 17m) More infoTokyo12:09PMBeijing11:09AMKyiv06:09AMParis05:09AMLondon04:09AMNew York11:09PMLos Angeles08:09PM\\nAbu Dhabi Addis Ababa Amsterdam Antananarivo Athens Auckland Baghdad Bangkok Barcelona Beijing Berlin Bogotá Boston Brussels Buenos Aires Cairo Cape Town Caracas Chicago Delhi Dhaka Dubai Dublin Frankfurt Guangzhou Hanoi Havana Helsinki Hong Kong Honolulu Istanbul Jakarta Karachi Kathmandu Kinshasa Kuala Lumpur Kyiv Lagos Las Vegas Lima London Los Angeles Luanda Madrid Manila Mecca Mexico City Miami Milan Moscow Mumbai New Delhi New York Nuuk Osaka Oslo Paris Prague Reykjavik Rio de Janeiro Riyadh Rome Saint Petersburg San Francisco Santiago Seoul Shanghai Shenzhen Singapore Stockholm Sydney São Paulo Taipei Tehran Tel Aviv Tokyo Toronto Vancouver Vienna Warsaw Washington, D.C. Yangon \\nUTC\\nGMT\\nCET\\nPacific Time\\nMountain Time\\nCentral Time\\nEastern Time\\nChina Standard Time\\nIndia Standard Time\\n\"I don\\'t believe in age. When you wake up, each day looks the same, so each day should be a new beginning.\"Prince (7 June 1958 – 21 April 2016)\\n×\\nTime.is - exact time for any time zone\\nExact time nowTime here&thereTime zonesDaylight Saving TimeClockCalendarSoundAppsWidgetsTime zone newsNewsletterUTCUnix clockUnix time converterCustomizeFAQHow to use Time.isAboutContactAdvertiseTerms of usePrivacy policy\\nFollow us\\nTwitter\\nTime.is displays exact, official atomic clock time for any time zone (more than 7 million locations) in 56 languages.\\nWhat time is it?\\n几点了？\\nक्या समय हुआ है?\\n¿Qué hora es?\\nQuelle heure est-il ?\\nكم الساعة\\nএখন কয়টা বাজে?\\nКоторый час?\\nQue horas são?\\nJam berapa?\\n؟ےہ اوہ تقو ایک\\nWieviel Uhr ist es?\\n今何時ですか？\\nSaat kaç?\\nஎன்ன நேரம்?\\n≫ more languages\\n'"
   ]
  },
  {
   "cell_type": "code",
   "execution_count": 59,
   "metadata": {},
   "outputs": [],
   "source": [
    "html_output = difflib.HtmlDiff().make_file(a.split(\"\\n\"), b.split(\"\\n\"))\n",
    "with open('test.html', \"w\") as f:\n",
    "    f.write(html_output)\n",
    "    \n"
   ]
  },
  {
   "cell_type": "code",
   "execution_count": 57,
   "metadata": {},
   "outputs": [
    {
     "name": "stdout",
     "output_type": "stream",
     "text": [
      "0  +Time.is - exact time, any time zone\n",
      "1 ++IDENTIFYME\n",
      "2  ×\n",
      "3  Time.is\n",
      "4 -Exact time now: Time in Carlsbad, California, United States now:07:58:15PMThe clock will update automatically if you turn on JavaScript in your browser.Tuesday, June 7, 2022Sun: ↑ 05:40AM ↓ 07:57PM (14h 17m) More infoTokyo11:58AMBeijing10:58AMKyiv05:58AMParis04:58AMLondon03:58AMNew York10:58PMLos Angeles07:58PM\n",
      "5 +Exact time now: Time in Carlsbad, California, United States now:08:09:32PMThe clock will update automatically if you turn on JavaScript in your browser.Tuesday, June 7, 2022Sun: ↑ 05:40AM ↓ 07:57PM (14h 17m) More infoTokyo12:09PMBeijing11:09AMKyiv06:09AMParis05:09AMLondon04:09AMNew York11:09PMLos Angeles08:09PM\n",
      "6  Abu Dhabi Addis Ababa Amsterdam Antananarivo Athens Auckland Baghdad Bangkok Barcelona Beijing Berlin Bogotá Boston Brussels Buenos Aires Cairo Cape Town Caracas Chicago Delhi Dhaka Dubai Dublin Frankfurt Guangzhou Hanoi Havana Helsinki Hong Kong Honolulu Istanbul Jakarta Karachi Kathmandu Kinshasa Kuala Lumpur Kyiv Lagos Las Vegas Lima London Los Angeles Luanda Madrid Manila Mecca Mexico City Miami Milan Moscow Mumbai New Delhi New York Nuuk Osaka Oslo Paris Prague Reykjavik Rio de Janeiro Riyadh Rome Saint Petersburg San Francisco Santiago Seoul Shanghai Shenzhen Singapore Stockholm Sydney São Paulo Taipei Tehran Tel Aviv Tokyo Toronto Vancouver Vienna Warsaw Washington, D.C. Yangon \n",
      "7  UTC\n",
      "8  GMT\n"
     ]
    }
   ],
   "source": [
    "import difflib\n",
    "i = 0\n",
    "for text in difflib.unified_diff(a.split(\"\\n\"), b.split(\"\\n\")):\n",
    "    if text[:3] not in ('+++', '---', '@@ '):\n",
    "        print(i, text)\n",
    "        i += 1"
   ]
  },
  {
   "cell_type": "code",
   "execution_count": 50,
   "metadata": {},
   "outputs": [
    {
     "data": {
      "text/plain": [
       "' GMT'"
      ]
     },
     "execution_count": 50,
     "metadata": {},
     "output_type": "execute_result"
    }
   ],
   "source": [
    "result"
   ]
  }
 ],
 "metadata": {
  "interpreter": {
   "hash": "5edc29c2ed010d6458d71a83433b383a96a8cbd3efe8531bc90c4b8a5b8bcec9"
  },
  "kernelspec": {
   "display_name": "Python 3.8.9 64-bit",
   "language": "python",
   "name": "python3"
  },
  "language_info": {
   "codemirror_mode": {
    "name": "ipython",
    "version": 3
   },
   "file_extension": ".py",
   "mimetype": "text/x-python",
   "name": "python",
   "nbconvert_exporter": "python",
   "pygments_lexer": "ipython3",
   "version": "3.8.9"
  },
  "orig_nbformat": 4
 },
 "nbformat": 4,
 "nbformat_minor": 2
}
